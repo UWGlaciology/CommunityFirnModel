{
 "cells": [
  {
   "cell_type": "markdown",
   "metadata": {},
   "source": [
    "# This notebook configures a isotope-enabled CFM run, runs the CFM, and processes/plots the outputs."
   ]
  },
  {
   "cell_type": "markdown",
   "metadata": {},
   "source": [
    "### It should run if you put it in the CFM_main directory in the iso_dev github branch. \n",
    "#### note that the input file (.pkl) needs to be in CFM_main."
   ]
  },
  {
   "cell_type": "code",
   "execution_count": 22,
   "metadata": {
    "tags": []
   },
   "outputs": [],
   "source": [
    "import sys \n",
    "\n",
    "## run from notebooks folder\n",
    "\n",
    "sys.path.append('../CFM_main/')"
   ]
  },
  {
   "cell_type": "code",
   "execution_count": 23,
   "metadata": {
    "tags": []
   },
   "outputs": [],
   "source": [
    "### Import necessary python packages and CFM code.\n",
    "# import statsmodels.api as sm\n",
    "import h5py as h5\n",
    "import matplotlib as mpl\n",
    "import matplotlib.pyplot as plt\n",
    "import numpy as np\n",
    "import scipy as sp\n",
    "import pandas as pd\n",
    "import netCDF4 as nc\n",
    "import sys\n",
    "import os\n",
    "import pickle\n",
    "import seaborn as sns \n",
    "import glob\n",
    "from datetime import datetime, timedelta, date\n",
    "import time\n",
    "import json\n",
    "import shutil\n",
    "import xarray as xr\n",
    "import copy\n",
    "\n",
    "SPY = 365.25*24*3600\n",
    "\n",
    "from firn_density_nospin import FirnDensityNoSpin\n",
    "from siteClimate_from_RCM import getClimate #get data from RCM\n",
    "from RCMpkl_to_spin import makeSpinFiles"
   ]
  },
  {
   "cell_type": "code",
   "execution_count": 24,
   "metadata": {
    "tags": []
   },
   "outputs": [],
   "source": [
    "### Set plot parameters (seaborn, matplotlib)\n",
    "sb=True\n",
    "if sb:\n",
    "    sns.set()\n",
    "    sns.set_context('paper', font_scale=1.5, rc={\"lines.linewidth\": 1.5})\n",
    "#     sns.set_context(\"notebook\", font_scale=1.5, rc={\"lines.linewidth\": 2.5})\n",
    "    sns.set_style(\"whitegrid\",{\"xtick.top\":True, \"xtick.bottom\":True,\"ytick.left\":True, \"ytick.right\":True})\n",
    "# plt.style.use('seaborn-notebook')\n",
    "\n",
    "# pd.set_option('display.height', 500)\n",
    "pd.set_option('display.max_rows', 500)\n",
    "mpl.rcParams['axes.formatter.useoffset'] = False\n",
    "mpl.rcParams.update({'figure.autolayout': True})\n",
    "fontsz = 20"
   ]
  },
  {
   "cell_type": "code",
   "execution_count": 25,
   "metadata": {
    "tags": []
   },
   "outputs": [],
   "source": [
    "### This function contains all of the CFM configuration options.\n",
    "### The values here are more or less the defaults.\n",
    "### You can change them here if you want to change default settings,\n",
    "### but if you want to change on a run-by-run basis I recommend doing so in the cell below.\n",
    "\n",
    "def makejson():\n",
    "    false = False\n",
    "    true = True\n",
    "    c = {\n",
    "    \"InputFileFolder\": \"CFMinput\",\n",
    "    \"InputFileNameTemp\": \"example_tskin.csv\",\n",
    "    \"InputFileNamebdot\": \"example_smb.csv\",\n",
    "    \"InputFileNameIso\": \"example_isotope.csv\",\n",
    "    \"InputFileNamerho\": \"example_rhos.csv\",\n",
    "    \"InputFileNamemelt\": \"example_melt.csv\",\n",
    "    \"resultsFolder\": \"CFMoutput/test\",\n",
    "    \"initfirnFile\": \"example_firndata.csv\",\n",
    "    \"initprofile\": false,\n",
    "    \"input_type\": \"dataframe\",\n",
    "    \"input_type_options\": [\"csv\",\"dataframe\"],\n",
    "    \"DFresample\": \"1D\",\n",
    "    \"DFfile\": \"MERRA2_CLIM_df_72.5_-38.75.pkl\",\n",
    "    \"physRho\": \"GSFC2020\",\n",
    "    \"physRho_options\":[\"HLdynamic\",\"HLSigfus\",\"Li2004\",\"Li2011\",\"Helsen2008\",\"Arthern2010S\",\"Arthern2010T\",\"Li2015\",\"Goujon2003\",\"Barnola1991\",\"Morris2014\",\"KuipersMunneke2015\",\"Crocus\",\"Ligtenberg2011\"],\n",
    "    \"MELT\": false,\n",
    "    \"ReehCorrectedT\": false,\n",
    "    \"FirnAir\": false,\n",
    "    \"AirConfigName\": \"AirConfig.json\",\n",
    "    \"TWriteInt\": 1,\n",
    "    \"TWriteStart\": 1980.0,\n",
    "    \"int_type\": \"nearest\",\n",
    "    \"int_type_options\": [\"nearest\",\"linear\"],\n",
    "    \"SeasonalTcycle\": false,\n",
    "    \"SeasonalThemi\": \"north\",\n",
    "    \"coreless\": true,\n",
    "    \"TAmp\":10.0,\n",
    "    \"physGrain\": false,\n",
    "    \"calcGrainSize\": false,\n",
    "    \"GrGrowPhysics\": \"Arthern\",\n",
    "    \"GrGrowPhysics_options\": [\"Arthern\", \"Katsushima\"],\n",
    "    \"heatDiff\": true,\n",
    "    \"conductivity\": \"Calonne2019\",\n",
    "    \"conductivity_options\": [\"Schwander\",\"Yen_fixed\",\"Yen_var\",\"Anderson\",\"Yen_b\",\"Sturm\",\"VanDusen\",\"Schwerdtfeger\",\"Riche\",\"Jiawen\",\"mix\",\"Calonne2011\",\"Calonne2019\"],\n",
    "    \"variable_srho\": false,\n",
    "    \"srho_type\": \"userinput\",\n",
    "    \"srho_type_options\": [\"userinput\",\"param\",\"noise\"],\n",
    "    \"rhos0\": 350.0,\n",
    "    \"r2s0\": 1.0e-8,\n",
    "    \"AutoSpinUpTime\": false,\n",
    "    \"yearSpin\": 20,\n",
    "    \"H\": 3000,\n",
    "    \"HbaseSpin\": 2880.0,\n",
    "    \"stpsPerYear\": 12.0,\n",
    "    \"D_surf\": 1.0,\n",
    "    \"bdot_type\": \"mean\",\n",
    "    \"bdot_type_options\": [\"instant\",\"mean\",\"stress\"],\n",
    "    \"grid_outputs\": false,\n",
    "    \"grid_output_res\": 0.25,\n",
    "    \"isoDiff\": true,\n",
    "    \"iso\": [\"d18O\",\"dD\"],\n",
    "    \"isoOptions\":[\"d18O\",\"dD\",\"NoDiffusion\"],\n",
    "    \"spacewriteint\": 1,\n",
    "    \"strain\": false,\n",
    "    \"du_dx\": 1e-5,\n",
    "    \"outputs\": [\"density\", \"depth\", \"temperature\", \"age\", \"DIP\",\"isotopes\"],\n",
    "    \"outputs_options\": [\"density\", \"depth\", \"temperature\", \"age\", \"Dcon\", \"bdot_mean\", \"climate\", \"compaction\", \"grainsize\", \"temp_Hx\", \"isotopes\", \"BCO\", \"DIPc\", \"DIP\", \"LWC\",\"gasses\", \"PLWC_mem\", \"viscosity\", \"runoff\",\n",
    "    \"refrozen\"],\n",
    "    \"resultsFileName\": \"CFMresults.hdf5\",\n",
    "    \"spinFileName\": \"CFMspin.hdf5\",\n",
    "    \"doublegrid\": false,\n",
    "    \"nodestocombine\": 30,\n",
    "    \"multnodestocombine\": 12,\n",
    "    \"Dnodestocombine\": 30,\n",
    "    \"Dmultnodestocombine\": 12,\n",
    "    \"grid1bottom\": 5.0,\n",
    "    \"grid2bottom\": 10.0,\n",
    "    \"spinup_climate_type\": \"mean\",\n",
    "    \"spinup_climate_type_options\": [\"mean\", \"initial\"],\n",
    "    \"manual_climate\": false,\n",
    "    \"deepT\": 255.88,\n",
    "    \"bdot_long\": 0.49073,\n",
    "    \"manual_iceout\": false,\n",
    "    \"iceout\": 0.23,\n",
    "    \"QMorris\": 110.0e3,\n",
    "    \"timesetup\": \"exact\",\n",
    "    \"timesetup_options\": [\"exact\",\"interp\",\"retmip\"],\n",
    "    \"liquid\": \"bucket\",\n",
    "    \"liquid_options\": [\"percolation_bucket\",\"bucketVV\",\"resingledomain\",\"prefsnowpack\"],\n",
    "    \"merging\": false,\n",
    "    \"merge_min\": 1e-4,\n",
    "    \"LWCcorrect\": false,\n",
    "    \"manualT\": false,\n",
    "    \"no_densification\": false,\n",
    "    \"rad_pen\": false,\n",
    "    \"site_pressure\": 1013.25,\n",
    "    \"output_bits\": \"float32\",\n",
    "    \"spinUpdate\": true,\n",
    "    \"spinUpdateDate\": 1980.0,\n",
    "    \"DIPhorizon\": 100.0,\n",
    "    \"NewSpin\": true,\n",
    "    \"ColeouLesaffre\": false,\n",
    "    \"IrrVal\": 0.02,\n",
    "    \"RhoImp\": 830.0,\n",
    "    \"DownToIce\": false,\n",
    "    \"ThickImp\": 0.1,\n",
    "    \"Ponding\": false,\n",
    "    \"DirectRunoff\": 0.0,\n",
    "    \"RunoffZuoOerlemans\": false,\n",
    "    \"Slope\": 0.1,\n",
    "    \"SUBLIM\": True\n",
    "    }\n",
    "\n",
    "    return c"
   ]
  },
  {
   "cell_type": "code",
   "execution_count": 26,
   "metadata": {
    "tags": []
   },
   "outputs": [],
   "source": [
    "### In general, the lat/lon on an RCM grid will not be the same at the '_int' values you enter. If working with RCM data you can \n",
    "### write a function to find the grid point closest to the point you entered, and saves it as 'lat_val' and 'lon_val'\n",
    "### but for now we can just set them equal, and load the .pkl for that point.\n",
    "\n",
    "lat_int = 72.5 # latitude of interest\n",
    "lon_int = -36.25 #longitude\n",
    "\n",
    "lat_val = lat_int\n",
    "lon_val = lon_int\n",
    "\n",
    "### load the forcing climate data, which is a dataframe called df_daily.\n",
    "#df_daily = pd.read_pickle(f'MERRA2_CLIM_df_{lat_val}_{lon_val}.pkl')\n",
    "df_daily = pd.read_pickle('../CFM_main/CFMinput_example/CFM_example_input_df.pkl')"
   ]
  },
  {
   "cell_type": "code",
   "execution_count": 27,
   "metadata": {
    "tags": []
   },
   "outputs": [
    {
     "data": {
      "text/html": [
       "<div>\n",
       "<style scoped>\n",
       "    .dataframe tbody tr th:only-of-type {\n",
       "        vertical-align: middle;\n",
       "    }\n",
       "\n",
       "    .dataframe tbody tr th {\n",
       "        vertical-align: top;\n",
       "    }\n",
       "\n",
       "    .dataframe thead th {\n",
       "        text-align: right;\n",
       "    }\n",
       "</style>\n",
       "<table border=\"1\" class=\"dataframe\">\n",
       "  <thead>\n",
       "    <tr style=\"text-align: right;\">\n",
       "      <th></th>\n",
       "      <th>TS</th>\n",
       "      <th>EVAP</th>\n",
       "      <th>SMELT</th>\n",
       "      <th>PRECTOT</th>\n",
       "      <th>PRECSNO</th>\n",
       "    </tr>\n",
       "    <tr>\n",
       "      <th>time</th>\n",
       "      <th></th>\n",
       "      <th></th>\n",
       "      <th></th>\n",
       "      <th></th>\n",
       "      <th></th>\n",
       "    </tr>\n",
       "  </thead>\n",
       "  <tbody>\n",
       "    <tr>\n",
       "      <th>1980-01-01</th>\n",
       "      <td>236.864014</td>\n",
       "      <td>-0.023392</td>\n",
       "      <td>0.0</td>\n",
       "      <td>0.623080</td>\n",
       "      <td>0.623080</td>\n",
       "    </tr>\n",
       "    <tr>\n",
       "      <th>1980-01-02</th>\n",
       "      <td>231.452515</td>\n",
       "      <td>-0.026929</td>\n",
       "      <td>0.0</td>\n",
       "      <td>0.245588</td>\n",
       "      <td>0.245588</td>\n",
       "    </tr>\n",
       "    <tr>\n",
       "      <th>1980-01-03</th>\n",
       "      <td>238.441223</td>\n",
       "      <td>-0.090302</td>\n",
       "      <td>0.0</td>\n",
       "      <td>0.814976</td>\n",
       "      <td>0.814976</td>\n",
       "    </tr>\n",
       "    <tr>\n",
       "      <th>1980-01-04</th>\n",
       "      <td>235.648422</td>\n",
       "      <td>-0.039976</td>\n",
       "      <td>0.0</td>\n",
       "      <td>0.432885</td>\n",
       "      <td>0.432885</td>\n",
       "    </tr>\n",
       "    <tr>\n",
       "      <th>1980-01-05</th>\n",
       "      <td>237.515213</td>\n",
       "      <td>-0.093008</td>\n",
       "      <td>0.0</td>\n",
       "      <td>0.773286</td>\n",
       "      <td>0.773286</td>\n",
       "    </tr>\n",
       "  </tbody>\n",
       "</table>\n",
       "</div>"
      ],
      "text/plain": [
       "                    TS      EVAP  SMELT   PRECTOT   PRECSNO\n",
       "time                                                       \n",
       "1980-01-01  236.864014 -0.023392    0.0  0.623080  0.623080\n",
       "1980-01-02  231.452515 -0.026929    0.0  0.245588  0.245588\n",
       "1980-01-03  238.441223 -0.090302    0.0  0.814976  0.814976\n",
       "1980-01-04  235.648422 -0.039976    0.0  0.432885  0.432885\n",
       "1980-01-05  237.515213 -0.093008    0.0  0.773286  0.773286"
      ]
     },
     "execution_count": 27,
     "metadata": {},
     "output_type": "execute_result"
    }
   ],
   "source": [
    "### The input dataframe has 4 columns: TS (surface, or skin, temperature); BDOT (snow accumulation); RAIN; SMELT (snowmelt)\n",
    "### The units for the mass fluxes (I think!) are kg/m^2/day.\n",
    "df_daily.head()"
   ]
  },
  {
   "cell_type": "code",
   "execution_count": 28,
   "metadata": {
    "tags": []
   },
   "outputs": [
    {
     "name": "stdout",
     "output_type": "stream",
     "text": [
      "0.22605431\n",
      "241.29854\n",
      "df_full (no seb):                   TSKIN    SUBLIM  SMELT  RAIN       BDOT\n",
      "decdate                                                  \n",
      "1532.081967  234.635101 -1.535472    0.0   0.0  18.342484\n",
      "1532.161202  230.551880 -0.965735    0.0   0.0  18.263277\n",
      "1532.245902  233.876495 -1.227034    0.0   0.0  16.960453\n",
      "1532.327869  237.308105 -0.493849    0.0   0.0  12.257541\n",
      "1532.412568  253.448883  0.392702    0.0   0.0  30.891956\n"
     ]
    }
   ],
   "source": [
    "### The CFM itself (i.e, firn_density_nospin.py) takes inputs as vectors of temperature, accumulation, etc., and decimal time. \n",
    "### The following line calls a script that takes the df_daily and creates a python dictionary (called Cd, for climate dictionary)\n",
    "### containing the vectors that the CFM needs to run. (converts the data from df_daily into these vectors)\n",
    "### the function also returns some other variables that will be used to configure the CFM run. (but are not important for what you are doing, generally speaking)\n",
    "\n",
    "### so, if you want to create your own forcing data you can either create a dataframe with a datetime index, which gets turned into the dictionary in the below function call,\n",
    "### or you could just create a dictionary with the needed keys (['time', 'TSKIN', 'BDOT', 'd18O', 'dD']), where 'time' is decimal date\n",
    "### we can't use pandas exclusively with datetime indicies because the datetime64 format has limitations\n",
    "\n",
    "timeres = '1M' # set the time resolution for the model run. '5D' is 5 days, '1M' is one month, etc\n",
    "\n",
    "Cd, StpsPerYr, depth_S1, depth_S2, grid_bottom = makeSpinFiles(df_daily.copy(),timeres=timeres,Tinterp='mean',spin_date_st = 1980.0, spin_date_end = 1995.0,desired_depth=100)\n",
    "\n",
    "Cd['d18O'] = 0.62* Cd['TSKIN'] - 15.25 #Johnsen 1989 eq. 2\n",
    "Cd['dD'] = 8.0 * Cd['d18O'] + 10 #Johnsen 1989 eq. 1"
   ]
  },
  {
   "cell_type": "code",
   "execution_count": 29,
   "metadata": {
    "tags": []
   },
   "outputs": [],
   "source": [
    "### Configure the CFM run.\n",
    "### the variable 'c' is a dictionary with key-value pairs\n",
    "### if you want to alter anything in the config file I recommend doing so here.\n",
    "### note that not all CFM features will work with isotopes turned on - let me know if I need to change anything for you in that regard.\n",
    "\n",
    "runid=-9999\n",
    "\n",
    "#######\n",
    "### Prepare config .json (which is a dictionary called c within this python script) ###\n",
    "### edit as you wish here (the makejson function above just has defaults, you can change there as well)\n",
    "c = makejson()\n",
    "c['physRho'] = 'KuipersMunneke2015' # try with 'GSFC2020' and 'KuipersMunneke2015'\n",
    "c['runID'] = runid\n",
    "c['DFresample'] = timeres # resolution of the model run, e.g. '1d' is 1 day.\n",
    "c[\"doublegrid\"] = False\n",
    "c['nodestocombine'] = 6 \n",
    "c['multnodestocombine'] = 12\n",
    "c['melt'] = False #you can set to false to make things run a lot faster if don't care about results\n",
    "c[\"stpsPerYear\"] = StpsPerYr\n",
    "c[\"stpsPerYearSpin\"] = StpsPerYr\n",
    "c[\"grid1bottom\"] = 5\n",
    "c[\"grid2bottom\"] = 10\n",
    "# c[\"grid1bottom\"] = depth_S1\n",
    "# c[\"grid2bottom\"] = depth_S2\n",
    "c[\"HbaseSpin\"] = 3000 - grid_bottom\n",
    "c[\"DIPhorizon\"] = np.floor(0.8*grid_bottom) # firn air content, depth integrated porosity \n",
    "c[\"rhos0\"] = 325.0  # e.g here you could change the surface density\n",
    "#######\n",
    "\n",
    "### Specify where results should go ###\n",
    "### alter this to reflect model-run specifics if e.g. you are doing several similar runs just varying one model setting\n",
    "reDir = f'CFMoutputs/CFMresults_iso_{lat_val}_{lon_val}'\n",
    "c['resultsFolder'] = reDir\n",
    "##########\n",
    "\n",
    "configName = f'CFMconfig_iso_{lat_val}_{lon_val}.json'\n",
    "if os.path.exists(os.path.join(c['resultsFolder'],configName)):\n",
    "    CFMconfig = os.path.join(c['resultsFolder'],configName)\n",
    "    shutil.move(CFMconfig, os.getcwd())\n",
    "else:\n",
    "    CFMconfig = configName\n",
    "with open(CFMconfig,'w') as fp:\n",
    "    fp.write(json.dumps(c,sort_keys=True, indent=4, separators=(',', ': ')))\n",
    "\n"
   ]
  },
  {
   "cell_type": "code",
   "execution_count": 30,
   "metadata": {
    "tags": []
   },
   "outputs": [
    {
     "data": {
      "text/plain": [
       "'CFMconfig_iso_72.5_-36.25.json'"
      ]
     },
     "execution_count": 30,
     "metadata": {},
     "output_type": "execute_result"
    }
   ],
   "source": [
    "configName"
   ]
  },
  {
   "cell_type": "code",
   "execution_count": 31,
   "metadata": {
    "tags": []
   },
   "outputs": [
    {
     "name": "stdout",
     "output_type": "stream",
     "text": [
      "stepsperyear: 12.000033530230295\n",
      "Spin run started\n",
      "physics are KuipersMunneke2015\n",
      "making dir\n",
      "Grid length is 5362\n",
      "AHL: 0.22377347946166992\n",
      "THL: 240.4247589111328\n",
      "Main run starting\n",
      "physics are KuipersMunneke2015\n",
      "updatedStartDate 20.916611015953826\n",
      "SUBLIM is OFF\n",
      "Note: keep_firnthickness is not in your .json (see changelog for v2.2.0)\n",
      "Defaulting to false (old CFM behavior)\n",
      "Isotope Diffusion is initialized\n",
      "modeltime 1532.0819672131147 2020.9972677595629\n",
      "estimated model run time (seconds): 67.9949469051361\n"
     ]
    },
    {
     "ename": "KeyError",
     "evalue": "'climate'",
     "output_type": "error",
     "traceback": [
      "\u001b[0;31m---------------------------------------------------------------------------\u001b[0m",
      "\u001b[0;31mKeyError\u001b[0m                                  Traceback (most recent call last)",
      "Cell \u001b[0;32mIn[31], line 4\u001b[0m\n\u001b[1;32m      2\u001b[0m tnow \u001b[38;5;241m=\u001b[39m time\u001b[38;5;241m.\u001b[39mtime()\n\u001b[1;32m      3\u001b[0m firn \u001b[38;5;241m=\u001b[39m FirnDensityNoSpin(configName,climateTS \u001b[38;5;241m=\u001b[39m Cd, NewSpin \u001b[38;5;241m=\u001b[39m \u001b[38;5;28;01mTrue\u001b[39;00m)\n\u001b[0;32m----> 4\u001b[0m firn\u001b[38;5;241m.\u001b[39mtime_evolve()\n\u001b[1;32m      5\u001b[0m telap \u001b[38;5;241m=\u001b[39m (time\u001b[38;5;241m.\u001b[39mtime()\u001b[38;5;241m-\u001b[39mtnow)\u001b[38;5;241m/\u001b[39m\u001b[38;5;241m60\u001b[39m\n\u001b[1;32m      6\u001b[0m \u001b[38;5;28mprint\u001b[39m(\u001b[38;5;124m'\u001b[39m\u001b[38;5;124mmain done, \u001b[39m\u001b[38;5;132;01m{}\u001b[39;00m\u001b[38;5;124m minutes\u001b[39m\u001b[38;5;124m'\u001b[39m\u001b[38;5;241m.\u001b[39mformat(telap))\n",
      "File \u001b[0;32m~/work/projects/cfm/repos/CommunityFirnModel/CFM_main/firn_density_nospin.py:1441\u001b[0m, in \u001b[0;36mFirnDensityNoSpin.time_evolve\u001b[0;34m(self)\u001b[0m\n\u001b[1;32m   1430\u001b[0m \u001b[38;5;28;01mif\u001b[39;00m \u001b[38;5;28mself\u001b[39m\u001b[38;5;241m.\u001b[39mMELT:\n\u001b[1;32m   1431\u001b[0m     \u001b[38;5;28mprint\u001b[39m(\u001b[38;5;124mf\u001b[39m\u001b[38;5;124m'\u001b[39m\u001b[38;5;124mTotals (m w.e.)\u001b[39m\u001b[38;5;130;01m\\n\u001b[39;00m\u001b[38;5;124m'\u001b[39m\n\u001b[1;32m   1432\u001b[0m           \u001b[38;5;124mf\u001b[39m\u001b[38;5;124m'\u001b[39m\u001b[38;5;124mMelt+Rain:      \u001b[39m\u001b[38;5;132;01m{\u001b[39;00m\u001b[38;5;28msum\u001b[39m(\u001b[38;5;28mself\u001b[39m\u001b[38;5;241m.\u001b[39msnowmeltSec\u001b[38;5;250m \u001b[39m\u001b[38;5;241m+\u001b[39m\u001b[38;5;250m \u001b[39m\u001b[38;5;28mself\u001b[39m\u001b[38;5;241m.\u001b[39mrainSec)\u001b[38;5;241m*\u001b[39mS_PER_YEAR\u001b[38;5;241m*\u001b[39mRHO_I_MGM\u001b[38;5;132;01m}\u001b[39;00m\u001b[38;5;130;01m\\n\u001b[39;00m\u001b[38;5;124m'\u001b[39m\n\u001b[1;32m   1433\u001b[0m           \u001b[38;5;124mf\u001b[39m\u001b[38;5;124m'\u001b[39m\u001b[38;5;124mmeltvol:        \u001b[39m\u001b[38;5;132;01m{\u001b[39;00m\u001b[38;5;28msum\u001b[39m(meltvol2check)\u001b[38;5;132;01m}\u001b[39;00m\u001b[38;5;130;01m\\n\u001b[39;00m\u001b[38;5;124m'\u001b[39m \u001b[38;5;66;03m#m w.e.\u001b[39;00m\n\u001b[0;32m   (...)\u001b[0m\n\u001b[1;32m   1439\u001b[0m           \u001b[38;5;124mf\u001b[39m\u001b[38;5;124m'\u001b[39m\u001b[38;5;124mRefrz + Rnff +LWC:   \u001b[39m\u001b[38;5;132;01m{\u001b[39;00m\u001b[38;5;28msum\u001b[39m(runoff2check)\u001b[38;5;241m+\u001b[39m\u001b[38;5;28msum\u001b[39m(refreezing2check)\u001b[38;5;241m+\u001b[39m\u001b[38;5;28msum\u001b[39m(\u001b[38;5;28mself\u001b[39m\u001b[38;5;241m.\u001b[39mLWC)\u001b[38;5;132;01m}\u001b[39;00m\u001b[38;5;130;01m\\n\u001b[39;00m\u001b[38;5;124m'\u001b[39m\n\u001b[1;32m   1440\u001b[0m           \u001b[38;5;124mf\u001b[39m\u001b[38;5;124m'\u001b[39m\u001b[38;5;124mDML:            \u001b[39m\u001b[38;5;132;01m{\u001b[39;00m\u001b[38;5;28msum\u001b[39m(dml2check)\u001b[38;5;132;01m}\u001b[39;00m\u001b[38;5;124m'\u001b[39m)\n\u001b[0;32m-> 1441\u001b[0m write_nospin_netcdf(\u001b[38;5;28mself\u001b[39m,\u001b[38;5;28mself\u001b[39m\u001b[38;5;241m.\u001b[39mMOutputs\u001b[38;5;241m.\u001b[39mMout_dict,\u001b[38;5;28mself\u001b[39m\u001b[38;5;241m.\u001b[39mforcing_dict)\n",
      "File \u001b[0;32m~/work/projects/cfm/repos/CommunityFirnModel/CFM_main/writer.py:153\u001b[0m, in \u001b[0;36mwrite_nospin_netcdf\u001b[0;34m(self, Mout_dict, forcing_dict)\u001b[0m\n\u001b[1;32m    143\u001b[0m \u001b[38;5;28;01mdef\u001b[39;00m \u001b[38;5;21mwrite_nospin_netcdf\u001b[39m(\u001b[38;5;28mself\u001b[39m,Mout_dict,forcing_dict\u001b[38;5;241m=\u001b[39m\u001b[38;5;28;01mNone\u001b[39;00m):\n\u001b[1;32m    144\u001b[0m \u001b[38;5;250m    \u001b[39m\u001b[38;5;124;03m'''\u001b[39;00m\n\u001b[1;32m    145\u001b[0m \u001b[38;5;124;03m    Write the results from the main model run to netCDF file.\u001b[39;00m\n\u001b[1;32m    146\u001b[0m \n\u001b[0;32m   (...)\u001b[0m\n\u001b[1;32m    150\u001b[0m \u001b[38;5;124;03m        contains all of the model outputs; each key is the name of the output \u001b[39;00m\n\u001b[1;32m    151\u001b[0m \u001b[38;5;124;03m    '''\u001b[39;00m\n\u001b[0;32m--> 153\u001b[0m     time  \u001b[38;5;241m=\u001b[39m Mout_dict[\u001b[38;5;124m'\u001b[39m\u001b[38;5;124mclimate\u001b[39m\u001b[38;5;124m'\u001b[39m][:,\u001b[38;5;241m0\u001b[39m]\n\u001b[1;32m    154\u001b[0m     depth \u001b[38;5;241m=\u001b[39m Mout_dict[\u001b[38;5;124m'\u001b[39m\u001b[38;5;124mz\u001b[39m\u001b[38;5;124m'\u001b[39m]\n\u001b[1;32m    156\u001b[0m     ds    \u001b[38;5;241m=\u001b[39m xr\u001b[38;5;241m.\u001b[39mDataset(data_vars \u001b[38;5;241m=\u001b[39m {\n\u001b[1;32m    157\u001b[0m                         \u001b[38;5;124m'\u001b[39m\u001b[38;5;124mage\u001b[39m\u001b[38;5;124m'\u001b[39m:           ([\u001b[38;5;124m'\u001b[39m\u001b[38;5;124mtime\u001b[39m\u001b[38;5;124m'\u001b[39m, \u001b[38;5;124m'\u001b[39m\u001b[38;5;124mdepth\u001b[39m\u001b[38;5;124m'\u001b[39m], Mout_dict[\u001b[38;5;124m'\u001b[39m\u001b[38;5;124mage\u001b[39m\u001b[38;5;124m'\u001b[39m]),\n\u001b[1;32m    158\u001b[0m                         \u001b[38;5;124m'\u001b[39m\u001b[38;5;124mdensity\u001b[39m\u001b[38;5;124m'\u001b[39m:       ([\u001b[38;5;124m'\u001b[39m\u001b[38;5;124mtime\u001b[39m\u001b[38;5;124m'\u001b[39m, \u001b[38;5;124m'\u001b[39m\u001b[38;5;124mdepth\u001b[39m\u001b[38;5;124m'\u001b[39m], Mout_dict[\u001b[38;5;124m'\u001b[39m\u001b[38;5;124mrho\u001b[39m\u001b[38;5;124m'\u001b[39m]),\n\u001b[0;32m   (...)\u001b[0m\n\u001b[1;32m    168\u001b[0m                          \u001b[38;5;124m'\u001b[39m\u001b[38;5;124mdepth\u001b[39m\u001b[38;5;124m'\u001b[39m: depth,  \n\u001b[1;32m    169\u001b[0m                         })\n",
      "\u001b[0;31mKeyError\u001b[0m: 'climate'"
     ]
    }
   ],
   "source": [
    "### start the CFM run\n",
    "tnow = time.time()\n",
    "firn = FirnDensityNoSpin(configName,climateTS = Cd, NewSpin = True)\n",
    "firn.time_evolve()\n",
    "telap = (time.time()-tnow)/60\n",
    "print('main done, {} minutes'.format(telap))\n",
    "\n",
    "shutil.move(configName,reDir)"
   ]
  },
  {
   "cell_type": "code",
   "execution_count": null,
   "metadata": {
    "tags": []
   },
   "outputs": [],
   "source": [
    "Cd['BDOT'].shape"
   ]
  },
  {
   "cell_type": "code",
   "execution_count": null,
   "metadata": {
    "tags": []
   },
   "outputs": [],
   "source": [
    "fns = ['test_run_1']\n",
    "rd = {} #results dictionary. I use nested dictionaries to load results from several runs in an organized fashion, e.g. Ideally you do this with the naming of results directory above and loop thorugh what you are changing\n",
    "\n",
    "for rt in fns:\n",
    "    print(rt)\n",
    "    rd[rt] = {}\n",
    "    ff = f'CFMoutputs/CFMresults_iso_72.5_-36.25/CFMresults.hdf5'\n",
    "    with h5.File(ff,'r') as fn:# Open the CFM results file\n",
    "        vars_list = list(fn.keys()) # Make a list of the variables stored in the file\n",
    "        # The first row in each of the model outputs is the initial condition, so we don't want that (i.e. start by using the data in 2nd row)\n",
    "        # The first column is the time step. So, we use index [1:,1:] on most of the variables to get just the data we want.\n",
    "        rd[rt]['model_time'] = fn['density'][1:,0] # the first column of the density data is the model time step.\n",
    "        rd[rt]['depth'] = fn['depth'][1:,1:] # Put the depth data into a numpy array\n",
    "        rd[rt]['density'] = fn['density'][1:,1:] # Put the density data into an array\n",
    "        rd[rt]['temperature'] = fn['temperature'][1:,1:]\n",
    "        rd[rt]['sig2_d18O'] = fn['iso_sig2_d18O'][1:,1:]\n",
    "        rd[rt]['sig2_dD'] = fn['iso_sig2_dD'][1:,1:]\n",
    "        rd[rt]['isotopes_d18O'] = fn['isotopes_d18O'][1:,1:]\n",
    "        rd[rt]['isotopes_dD'] = fn['isotopes_dD'][1:,1:]\n",
    "        # rd[rt]['DIP'] = fn['DIP'][1:,1:]\n"
   ]
  },
  {
   "cell_type": "code",
   "execution_count": null,
   "metadata": {
    "tags": []
   },
   "outputs": [],
   "source": [
    "### Plot depth/density\n",
    "f1,a1=plt.subplots(figsize=(8,8))\n",
    "for rt in fns:\n",
    "    a1.plot(rd[rt]['density'][-1,:],rd[rt]['depth'][-1,:],label=rt)\n",
    "a1.invert_yaxis()\n",
    "a1.legend()\n",
    "a1.set_xlabel('Density (kg m$^{-3}$)')\n",
    "a1.set_ylabel('Depth (m)')"
   ]
  },
  {
   "cell_type": "code",
   "execution_count": null,
   "metadata": {
    "tags": []
   },
   "outputs": [],
   "source": [
    "### Plot depth/density\n",
    "f1,a1=plt.subplots(figsize=(8,8))\n",
    "for rt in fns:\n",
    "    a1.plot(rd[rt]['isotopes_d18O'][-1,:],rd[rt]['depth'][-1,:],label=rt)\n",
    "a1.invert_yaxis()\n",
    "a1.legend()\n",
    "a1.set_xlabel('d18O')\n",
    "a1.set_ylabel('Depth (m)')"
   ]
  },
  {
   "cell_type": "code",
   "execution_count": null,
   "metadata": {
    "tags": []
   },
   "outputs": [],
   "source": [
    "### Plot depth/density\n",
    "f1,a1=plt.subplots(figsize=(8,8))\n",
    "for rt in fns:\n",
    "    a1.plot(rd[rt]['sig2_d18O'][-1,:],rd[rt]['depth'][-1,:],label=rt)\n",
    "a1.invert_yaxis()\n",
    "a1.legend()\n",
    "a1.set_xlabel('diffusion length ($\\sigma^{2}$)')\n",
    "a1.set_ylabel('Depth (m)')"
   ]
  },
  {
   "cell_type": "code",
   "execution_count": null,
   "metadata": {},
   "outputs": [],
   "source": []
  }
 ],
 "metadata": {
  "kernelspec": {
   "display_name": "Python 3 (ipykernel)",
   "language": "python",
   "name": "python3"
  },
  "language_info": {
   "codemirror_mode": {
    "name": "ipython",
    "version": 3
   },
   "file_extension": ".py",
   "mimetype": "text/x-python",
   "name": "python",
   "nbconvert_exporter": "python",
   "pygments_lexer": "ipython3",
   "version": "3.11.4"
  }
 },
 "nbformat": 4,
 "nbformat_minor": 4
}
